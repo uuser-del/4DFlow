{
 "cells": [
  {
   "cell_type": "code",
   "execution_count": 1,
   "metadata": {},
   "outputs": [
    {
     "name": "stdout",
     "output_type": "stream",
     "text": [
      "速度幅值 min: 0.12685919 max: 247.27573\n"
     ]
    }
   ],
   "source": [
    "import numpy as np\n",
    "import pydicom\n",
    "\n",
    "# 读取DICOM\n",
    "FHP_path = 'S0/S11040/I11'\n",
    "RLP_path = 'S0/S11070/I11'\n",
    "APP_path = 'S0/S11050/I11'\n",
    "import pydicom\n",
    "import numpy as np\n",
    "\n",
    "ds = pydicom.dcmread('S0/S11040/I11')\n",
    "pixel_array = ds.pixel_array\n",
    "\n",
    "print(\"像素值类型:\", pixel_array.dtype)\n",
    "print(\"像素值最小值:\", np.min(pixel_array))\n",
    "print(\"像素值最大值:\", np.max(pixel_array))\n",
    "print(\"像素值形状:\", pixel_array.shape)\n",
    "\n",
    "FHP_raw = pydicom.dcmread(FHP_path).pixel_array.astype(np.float32)\n",
    "RLP_raw = pydicom.dcmread(RLP_path).pixel_array.astype(np.float32)\n",
    "APP_raw = pydicom.dcmread(APP_path).pixel_array.astype(np.float32)\n",
    "\n",
    "# 参数\n",
    "VENC = 150\n",
    "num_slices = 80\n",
    "num_timepoints = int(1600 / num_slices)  # 20\n",
    "\n",
    "# 归一化参数\n",
    "P0 = 2048  # 中心点\n",
    "SCALE = 2048  # 4096/2\n",
    "\n",
    "# 归一化\n",
    "FHP = (FHP_raw - P0) / SCALE * VENC\n",
    "RLP = (RLP_raw - P0) / SCALE * VENC\n",
    "APP = (APP_raw - P0) / SCALE * VENC\n",
    "\n",
    "# 重塑为4D\n",
    "shape = (num_timepoints, num_slices, 128, 128)\n",
    "FHP = FHP.reshape(shape)\n",
    "RLP = RLP.reshape(shape)\n",
    "APP = APP.reshape(shape)\n",
    "\n",
    "# 选一帧\n",
    "t = 0\n",
    "Vx = FHP[t, :, :, :]  # (80, 128, 128)\n",
    "Vy = RLP[t, :, :, :]\n",
    "Vz = APP[t, :, :, :]\n",
    "\n",
    "# 转换为 (X, Y, Z) 顺序\n",
    "Vx = np.transpose(Vx, (2, 1, 0))  # (128, 128, 80)\n",
    "Vy = np.transpose(Vy, (2, 1, 0))\n",
    "Vz = np.transpose(Vz, (2, 1, 0))\n",
    "\n",
    "# 计算速度幅值\n",
    "Vmag = np.sqrt(Vx**2 + Vy**2 + Vz**2)\n",
    "print('速度幅值 min:', Vmag.min(), 'max:', Vmag.max())\n",
    "\n",
    "# 重点关注：\n",
    "# - RescaleSlope / RescaleIntercept\n",
    "# - VENC（有时在私有标签或SeriesDescription里）\n",
    "# - PixelRepresentation, BitsStored, etc.\n"
   ]
  },
  {
   "cell_type": "code",
   "execution_count": 4,
   "metadata": {},
   "outputs": [
    {
     "name": "stdout",
     "output_type": "stream",
     "text": [
      "像素值类型: uint16\n",
      "像素值最小值: 0\n",
      "像素值最大值: 4094\n",
      "像素值形状: (1600, 128, 128)\n"
     ]
    },
    {
     "ename": "NameError",
     "evalue": "name 'ds_fhp' is not defined",
     "output_type": "error",
     "traceback": [
      "\u001b[1;31m---------------------------------------------------------------------------\u001b[0m",
      "\u001b[1;31mNameError\u001b[0m                                 Traceback (most recent call last)",
      "Cell \u001b[1;32mIn[4], line 22\u001b[0m\n\u001b[0;32m     19\u001b[0m     thickness \u001b[38;5;241m=\u001b[39m ds\u001b[38;5;241m.\u001b[39mSliceThickness\n\u001b[0;32m     20\u001b[0m     \u001b[38;5;28;01mreturn\u001b[39;00m spacing, thickness\n\u001b[1;32m---> 22\u001b[0m frame_time, acquisition_time \u001b[38;5;241m=\u001b[39m get_time_info(\u001b[43mds_fhp\u001b[49m)\n\u001b[0;32m     23\u001b[0m spacing, thickness \u001b[38;5;241m=\u001b[39m get_physical_info(ds_fhp)\n\u001b[0;32m     24\u001b[0m \u001b[38;5;28mprint\u001b[39m(\u001b[38;5;124m'\u001b[39m\u001b[38;5;124m帧时间:\u001b[39m\u001b[38;5;124m'\u001b[39m, frame_time, \u001b[38;5;124m'\u001b[39m\u001b[38;5;124m采集时间:\u001b[39m\u001b[38;5;124m'\u001b[39m, acquisition_time)\n",
      "\u001b[1;31mNameError\u001b[0m: name 'ds_fhp' is not defined"
     ]
    }
   ],
   "source": [
    "import pydicom\n",
    "import numpy as np\n",
    "\n",
    "ds = pydicom.dcmread('S0/S11040/I11')\n",
    "pixel_array = ds.pixel_array\n",
    "\n",
    "print(\"像素值类型:\", pixel_array.dtype)\n",
    "print(\"像素值最小值:\", np.min(pixel_array))\n",
    "print(\"像素值最大值:\", np.max(pixel_array))\n",
    "print(\"像素值形状:\", pixel_array.shape)\n",
    "def get_time_info(ds):\n",
    "    # 典型标签\n",
    "    frame_time = getattr(ds, 'FrameTime', None)  # ms\n",
    "    acquisition_time = getattr(ds, 'AcquisitionTime', None)\n",
    "    return frame_time, acquisition_time\n",
    "\n",
    "def get_physical_info(ds):\n",
    "    spacing = ds.Pixel_Spacing  # (row, col)\n",
    "    thickness = ds.Slice_Thickness\n",
    "    return spacing, thickness\n",
    "\n",
    "frame_time, acquisition_time = get_time_info(ds_fhp)\n",
    "spacing, thickness = get_physical_info(ds_fhp)\n",
    "fps = \n",
    "print('帧时间:', frame_time, '采集时间:', acquisition_time)\n",
    "print('像素间距:', spacing, '切片厚度:', thickness)"
   ]
  },
  {
   "cell_type": "code",
   "execution_count": null,
   "metadata": {},
   "outputs": [],
   "source": [
    "看看看看"
   ]
  },
  {
   "cell_type": "code",
   "execution_count": 2,
   "metadata": {},
   "outputs": [
    {
     "name": "stdout",
     "output_type": "stream",
     "text": [
      "\n",
      "STL模型尺寸信息:\n",
      "X范围: 2.47 到 127.00 mm\n",
      "Y范围: 0.00 到 127.00 mm\n",
      "Z范围: 0.00 到 79.00 mm\n",
      "模型中心点: [61.75085992 67.38849343 40.98093297] mm\n"
     ]
    }
   ],
   "source": [
    "import numpy as np\n",
    "import pydicom\n",
    "import pyvista as pv\n",
    "import matplotlib.pyplot as plt\n",
    "from mayavi import mlab\n",
    "import trimesh\n",
    "from scipy.spatial import cKDTree\n",
    "\n",
    "# 读取STL模型\n",
    "stl_path = r'D:\\4dflow\\mm_3d_models\\mm_frame_1.stl'  # STL模型路径\n",
    "aorta_mesh = trimesh.load(stl_path)\n",
    "aorta_vertices = aorta_mesh.vertices\n",
    "aorta_faces = aorta_mesh.faces\n",
    "\n",
    "# 打印STL模型尺寸信息\n",
    "print(\"\\nSTL模型尺寸信息:\")\n",
    "print(f\"X范围: {aorta_vertices[:, 0].min():.2f} 到 {aorta_vertices[:, 0].max():.2f} mm\")\n",
    "print(f\"Y范围: {aorta_vertices[:, 1].min():.2f} 到 {aorta_vertices[:, 1].max():.2f} mm\")\n",
    "print(f\"Z范围: {aorta_vertices[:, 2].min():.2f} 到 {aorta_vertices[:, 2].max():.2f} mm\")\n",
    "print(f\"模型中心点: {aorta_vertices.mean(axis=0)} mm\")\n"
   ]
  }
 ],
 "metadata": {
  "kernelspec": {
   "display_name": "py37",
   "language": "python",
   "name": "python3"
  },
  "language_info": {
   "codemirror_mode": {
    "name": "ipython",
    "version": 3
   },
   "file_extension": ".py",
   "mimetype": "text/x-python",
   "name": "python",
   "nbconvert_exporter": "python",
   "pygments_lexer": "ipython3",
   "version": "3.7.12"
  }
 },
 "nbformat": 4,
 "nbformat_minor": 2
}
